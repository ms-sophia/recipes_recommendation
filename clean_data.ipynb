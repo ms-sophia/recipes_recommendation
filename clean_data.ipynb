{
 "cells": [
  {
   "cell_type": "code",
   "execution_count": 2,
   "metadata": {},
   "outputs": [
    {
     "data": {
      "text/html": [
       "<div>\n",
       "<style scoped>\n",
       "    .dataframe tbody tr th:only-of-type {\n",
       "        vertical-align: middle;\n",
       "    }\n",
       "\n",
       "    .dataframe tbody tr th {\n",
       "        vertical-align: top;\n",
       "    }\n",
       "\n",
       "    .dataframe thead th {\n",
       "        text-align: right;\n",
       "    }\n",
       "</style>\n",
       "<table border=\"1\" class=\"dataframe\">\n",
       "  <thead>\n",
       "    <tr style=\"text-align: right;\">\n",
       "      <th></th>\n",
       "      <th>names</th>\n",
       "      <th>url</th>\n",
       "      <th>ingredients</th>\n",
       "    </tr>\n",
       "  </thead>\n",
       "  <tbody>\n",
       "    <tr>\n",
       "      <th>0</th>\n",
       "      <td>Mie Goreng</td>\n",
       "      <td>https://panlasangpinoy.com/mie-goreng/</td>\n",
       "      <td>230 grams Egg Noodles</td>\n",
       "    </tr>\n",
       "    <tr>\n",
       "      <th>1</th>\n",
       "      <td>Mie Goreng</td>\n",
       "      <td>https://panlasangpinoy.com/mie-goreng/</td>\n",
       "      <td>4 ounces chicken breast sliced into serving pi...</td>\n",
       "    </tr>\n",
       "    <tr>\n",
       "      <th>2</th>\n",
       "      <td>Mie Goreng</td>\n",
       "      <td>https://panlasangpinoy.com/mie-goreng/</td>\n",
       "      <td>3 ounces shrimp deveined and shells removed</td>\n",
       "    </tr>\n",
       "    <tr>\n",
       "      <th>3</th>\n",
       "      <td>Mie Goreng</td>\n",
       "      <td>https://panlasangpinoy.com/mie-goreng/</td>\n",
       "      <td>3 eggs beaten</td>\n",
       "    </tr>\n",
       "    <tr>\n",
       "      <th>4</th>\n",
       "      <td>Mie Goreng</td>\n",
       "      <td>https://panlasangpinoy.com/mie-goreng/</td>\n",
       "      <td>1 ¼ cup mung bean sprouts</td>\n",
       "    </tr>\n",
       "    <tr>\n",
       "      <th>...</th>\n",
       "      <td>...</td>\n",
       "      <td>...</td>\n",
       "      <td>...</td>\n",
       "    </tr>\n",
       "    <tr>\n",
       "      <th>324</th>\n",
       "      <td>Cheesy Pork Caldereta</td>\n",
       "      <td>https://panlasangpinoy.com/cheesy-pork-caldereta/</td>\n",
       "      <td>4 cups water</td>\n",
       "    </tr>\n",
       "    <tr>\n",
       "      <th>325</th>\n",
       "      <td>Cheesy Pork Caldereta</td>\n",
       "      <td>https://panlasangpinoy.com/cheesy-pork-caldereta/</td>\n",
       "      <td>1 piece onion chopped</td>\n",
       "    </tr>\n",
       "    <tr>\n",
       "      <th>326</th>\n",
       "      <td>Cheesy Pork Caldereta</td>\n",
       "      <td>https://panlasangpinoy.com/cheesy-pork-caldereta/</td>\n",
       "      <td>4 cloves garlic minced</td>\n",
       "    </tr>\n",
       "    <tr>\n",
       "      <th>327</th>\n",
       "      <td>Cheesy Pork Caldereta</td>\n",
       "      <td>https://panlasangpinoy.com/cheesy-pork-caldereta/</td>\n",
       "      <td>3 tablespoons cooking oil</td>\n",
       "    </tr>\n",
       "    <tr>\n",
       "      <th>328</th>\n",
       "      <td>Cheesy Pork Caldereta</td>\n",
       "      <td>https://panlasangpinoy.com/cheesy-pork-caldereta/</td>\n",
       "      <td>Salt and ground black pepper</td>\n",
       "    </tr>\n",
       "  </tbody>\n",
       "</table>\n",
       "<p>329 rows × 3 columns</p>\n",
       "</div>"
      ],
      "text/plain": [
       "                     names                                                url  \\\n",
       "0               Mie Goreng             https://panlasangpinoy.com/mie-goreng/   \n",
       "1               Mie Goreng             https://panlasangpinoy.com/mie-goreng/   \n",
       "2               Mie Goreng             https://panlasangpinoy.com/mie-goreng/   \n",
       "3               Mie Goreng             https://panlasangpinoy.com/mie-goreng/   \n",
       "4               Mie Goreng             https://panlasangpinoy.com/mie-goreng/   \n",
       "..                     ...                                                ...   \n",
       "324  Cheesy Pork Caldereta  https://panlasangpinoy.com/cheesy-pork-caldereta/   \n",
       "325  Cheesy Pork Caldereta  https://panlasangpinoy.com/cheesy-pork-caldereta/   \n",
       "326  Cheesy Pork Caldereta  https://panlasangpinoy.com/cheesy-pork-caldereta/   \n",
       "327  Cheesy Pork Caldereta  https://panlasangpinoy.com/cheesy-pork-caldereta/   \n",
       "328  Cheesy Pork Caldereta  https://panlasangpinoy.com/cheesy-pork-caldereta/   \n",
       "\n",
       "                                           ingredients  \n",
       "0                                230 grams Egg Noodles  \n",
       "1    4 ounces chicken breast sliced into serving pi...  \n",
       "2          3 ounces shrimp deveined and shells removed  \n",
       "3                                        3 eggs beaten  \n",
       "4                            1 ¼ cup mung bean sprouts  \n",
       "..                                                 ...  \n",
       "324                                       4 cups water  \n",
       "325                              1 piece onion chopped  \n",
       "326                             4 cloves garlic minced  \n",
       "327                          3 tablespoons cooking oil  \n",
       "328                       Salt and ground black pepper  \n",
       "\n",
       "[329 rows x 3 columns]"
      ]
     },
     "execution_count": 2,
     "metadata": {},
     "output_type": "execute_result"
    }
   ],
   "source": [
    "import pandas as pd\n",
    "import unicodedata\n",
    "df = pd.read_csv('rawData.csv')\n",
    "df\n"
   ]
  },
  {
   "cell_type": "code",
   "execution_count": 3,
   "metadata": {},
   "outputs": [
    {
     "data": {
      "text/plain": [
       "0                                  230 grams Egg Noodles\n",
       "1      4 ounces chicken breast sliced into serving pi...\n",
       "2            3 ounces shrimp deveined and shells removed\n",
       "3                                          3 eggs beaten\n",
       "4                            1 1⁄4 cup mung bean sprouts\n",
       "                             ...                        \n",
       "324                                         4 cups water\n",
       "325                                1 piece onion chopped\n",
       "326                               4 cloves garlic minced\n",
       "327                            3 tablespoons cooking oil\n",
       "328                         Salt and ground black pepper\n",
       "Name: ingredients, Length: 329, dtype: object"
      ]
     },
     "execution_count": 3,
     "metadata": {},
     "output_type": "execute_result"
    }
   ],
   "source": [
    "import unicodedata\n",
    "unicodedata.numeric('¼')\n",
    "unicodedata.name('¼')\n",
    "\n",
    "for a, row in df.iterrows():\n",
    "    for char in row['ingredients']:\n",
    "        if unicodedata.name(char).startswith('VULGAR FRACTION'):\n",
    "            normalized = unicodedata.normalize('NFKC',char)\n",
    "            df.iloc[a,2] = df.iloc[a,2].replace(char,normalized)\n",
    "\n",
    "df['ingredients']"
   ]
  },
  {
   "cell_type": "code",
   "execution_count": 4,
   "metadata": {},
   "outputs": [],
   "source": [
    "# df[\"ingredients\"]\n",
    "# word = df.iloc[3][\"ingredients\"]\n",
    "# word = word.split(\" \")\n",
    "# print(word)\n",
    "# for x in df[\"ingredients\"]:\n",
    "#     x = x.split(\" \")\n",
    "#     print(x)\n",
    "#     for y in x:\n",
    "#         if y.isdigit():\n",
    "#             print(f\"this is a number: {y}\")"
   ]
  },
  {
   "cell_type": "code",
   "execution_count": 13,
   "metadata": {},
   "outputs": [
    {
     "name": "stdout",
     "output_type": "stream",
     "text": [
      " Extracting ingredient for row 328 ['', 'chicken breast ', 'shrimp shells ', 'eggs ', 'bean sprouts ', 'green onions ', 'baby bok choy ', 'garlic ', 'water ', 'cooking oil ', 'kecap manis ', 'soy ', 'Oyster Sauce ', '', '', '', 'beef chuck ', 'red onions ', 'cloves garlic ', 'liver spread ', 'butter optional ', 'cheddar cheese ', 'sweet pickle relish ', 'tsp annatto powder ', 'beef powder ', 'pcs Thai chili pepper ', 'soy sauce ', 'Worcestershire sauce ', 'water ', 'margarine ', 'breadcrumbs ', 'salt ', 'black pepper ', 'cans sardines ', 'banana blossoms ', 'egg ', 'purpose flour ', 'onion powder ', '1⁄2 garlic powder ', 'salt ', 'black pepper ', 'cooking oil ', 'butter ', '', 'milk ', 'onion powder ', 'Salt ', 'boneless chicken thigh ', 'soy sauce ', '', 'cornstarch ', '', 'dried chilies ', 'ginger ', 'garlic ', 'green onions ', 'zucchini ', 'red bell pepper ', 'roasted peanuts ', '', 'soy ', 'dark soy sauce ', 'rice vinegar ', 'honey ', '', 'cornstarch ', 'chicken stock ', 'chicken wings ', '', 'cornstarch ', '', 'cooking oil ', 'garlic powder ', 'onion powder ', 'paprika ', 'head garlic ', '', 'salt ', 'soy ', 'mayonnaise ', 'sour cream ', 'dill ', 'parsley ', 'garlic powder ', 'onion powder ', 'kosher salt ', '', 'lime ', 'bunches pechay ', 'eggs ', 'tomatoes ', 'garlic ', 'onion ', 'water ', '', 'Fish sauce ', 'chicken ', 'bell peppers ', 'potato ', 'carrots ', 'tomato sauce ', 'liver spread ', 'soy ', 'water ', 'onion ', 'cloves ', '1⁄2 garlic powder ', 'ounce cheese ', 'cooking oil ', 'lime ', 'Fish sauce ', 'head cabbage ', 'eggs ', '', 'onion ', 'bunch green onions ', 'garlic ', 'soy ', 'oyster sauce ', '', 'salt ', 'black pepper ', 'sugar optional ', '', 'chicken gizzard ', 'coconut milk ', '', 'red bell pepper ', 'onion ', '', 'garlic ', 'bay leaves ', '', 'water ', 'Fish sauce ', 'chicken ', '', 'soy sauce ', 'white vinegar ', 'cloves garlic ', 'water ', '', 'sugar ', 'salt ', 'whole peppercorn ', 'lb pork belly ', 'cucumbers ', 'optional tomatoes ', 'red onion ', 'chili pepper ', 'white vinegar ', 'soy sauce ', '', 'salt ', 'black pepper ', '1⁄2 soy sauce ', 'banana ketchup ', 'head garlic ', '1⁄2 lemon ', 'onion powder ', 'salt ', 'black pepper ', 'pork belly ', 'pineapple juice ', 'pineapple chunks ', 'cloves garlic ', 'soy ', 'brown sugar ', '', '', 'Salt ', 'pork belly ', 'potato ', 'soy ', 'oyster sauce ', '', '', 'cloves ', 'piece onion ', '', 'water ', 'brown sugar ', 'black pepper ', 'Salt ', '', 'eggs ', 'green onions ', 'cornstarch ', '', '', 'salt ', 'black pepper ', 'water ', 'cooking oil ', 'white vinegar ', 'soy sauce ', '1⁄2 red onion ', 'green onion ', 'Thai chili pepper ', 'garlic ', 'sugar ', 'salt ', 'black pepper ', 'Chinese eggplant ', 'ground pork ', 'cornstarch ', '', 'green onions ', 'salt ', 'water ', 'cooking oil ', '', 'garlic ', 'Thai chili pepper ', 'sugar ', 'salt ', 'soy sauce ', 'vinegar ', 'oyster sauce ', 'water ', '', 'ham ', 'piece bell pepper ', 'piece onion ', 'green onion white part ', 'eggs ', 'soy ', 'sesame oil ', 'canola oil ', 'Salt ', '', '', 'shrimp ', 'quail eggs ', 'chicken thigh ', 'piece carrot ', 'baby bok choy ', 'green onion ', 'garlic ', 'oyster sauce ', 'sesame oil ', 'water ', 'cooking oil ', 'pork belly ', 'piece Knorr Pork Cube ', 'hotdogs ', 'potatoes ', 'carrots ', 'tomato sauce ', 'bay leaves ', 'piece red bell pepper ', 'piece bell pepper ', 'garlic ', 'piece onion ', 'water ', 'Salt ', '', 'ground pork ', 'see ', 'ml Knorr Liquid Seasoning ', 'onion ', 'carrot ', 'green onion ', 'cornstarch ', 'piece egg ', '', 'salt ', 'black pepper ', 'wonton wrapper ', 'heads garlic ', 'Thai chili pepper ', 'star anise ', 'bay leaves ', 'white vinegar ', '', 'salt ', 'oyster sauce see ', 'pork chop ', 'piece Knorr Pork Cube ', '1⁄2 soy sauce ', 'piece lemon ', 'yellow onions ', 'cloves garlic ', 'cornstarch ', 'water ', '', 'Ground black pepper ', 'extra firm tofu ', '', 'piece Knorr Chicken Cube ', 'purpose cream ', 'green peas ', 'carrots ', 'corn kernels ', 'piece onion ', 'garlic ', '', 'butter ', 'cooking oil ', 'water ', 'eggs ', 'see note ', 'onion ', 'bell pepper ', 'sweet peppers ', 'soy ', 'sesame oil ', 'green onion ', 'salt ', 'sugar see note ', 'cooking oil ', 'pork ribs ', 'piece Knorr Pork Cube ', '', 'cheddar cheese ', 'liver spread ', 'piece red bell pepper ', 'piece bell pepper ', 'green peas ', 'potatoes ', 'carrots ', 'tomato sauce ', 'tomato ', 'soy ', 'water ', 'piece onion ', 'garlic ', '', 'black pepper ']\n"
     ]
    }
   ],
   "source": [
    "import spacy\n",
    "import re\n",
    "base_model = spacy.load('en_core_web_sm')\n",
    "measurements = re.compile(r'(grams|ounces|cup|inch|quart|tablespoon|teaspoon|pinch|tbsp|lbs|pieces)s?') \n",
    "extracted = []\n",
    "\n",
    "for x, row in df.iterrows():\n",
    "    print('\\r', \"Extracting ingredient for row\",x, end=\" \")\n",
    "    tokens = base_model(row['ingredients'])\n",
    "    extract = ''\n",
    "    for token in tokens:\n",
    "        if (token.dep_ in ['nsubj','ROOT']) and (token.pos_ in ['NOUN', 'PROPN']) and (not measurements.match(token.text)):\n",
    "            for child in token.children:\n",
    "                if (not measurements.match(child.text)) and (child.dep_ in ['amod', 'compound']):\n",
    "                    extract += child.text + ' '\n",
    "            extract += token.text + ' '\n",
    "    extracted.append(extract)\n",
    "print(extracted)\n",
    "\n",
    "clean_recipe = df[['names','url']]\n",
    "clean_recipe['ingredients'] = extracted\n",
    "\n",
    "nam = float('NaN')\n",
    "\n",
    "clean_recipe.replace(\"\",nam,inplace=True)\n",
    "clean_recipe.dropna(subset=[\"ingredients\"], inplace=True)\n",
    "\n",
    "clean_recipe\n",
    "\n",
    "clean_recipe.to_csv(\"cleanData.csv\")"
   ]
  },
  {
   "cell_type": "code",
   "execution_count": 17,
   "metadata": {},
   "outputs": [
    {
     "name": "stdout",
     "output_type": "stream",
     "text": [
      "230 nummod\n",
      "gram ROOT\n",
      "of prep\n",
      "Egg compound\n",
      "Noodles pobj\n"
     ]
    }
   ],
   "source": [
    "ingri = df['ingredients']\n",
    "# ingri = base_model(ingri)\n",
    "# for word in ingri.ents:\n",
    "#     print(word.text,word.label_)\n",
    "words = \"230 gram of Egg Noodles\"\n",
    "text = base_model(words)\n",
    "for word in text:\n",
    "    \n",
    "    print(word.text, word.dep_)"
   ]
  }
 ],
 "metadata": {
  "kernelspec": {
   "display_name": ".venv",
   "language": "python",
   "name": "python3"
  },
  "language_info": {
   "codemirror_mode": {
    "name": "ipython",
    "version": 3
   },
   "file_extension": ".py",
   "mimetype": "text/x-python",
   "name": "python",
   "nbconvert_exporter": "python",
   "pygments_lexer": "ipython3",
   "version": "3.12.2"
  }
 },
 "nbformat": 4,
 "nbformat_minor": 2
}
